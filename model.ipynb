{
  "nbformat": 4,
  "nbformat_minor": 0,
  "metadata": {
    "colab": {
      "name": "Copy of Nikhil_majorproject",
      "provenance": []
    },
    "kernelspec": {
      "name": "python3",
      "display_name": "Python 3"
    },
    "language_info": {
      "name": "python"
    }
  },
  "cells": [
    {
      "cell_type": "code",
      "source": [
        "!pip install bing-image-downloader"
      ],
      "metadata": {
        "colab": {
          "base_uri": "https://localhost:8080/"
        },
        "id": "YJW9EEXFhjd5",
        "outputId": "e102ada8-b532-4850-91c4-db393f874466"
      },
      "execution_count": null,
      "outputs": [
        {
          "output_type": "stream",
          "name": "stdout",
          "text": [
            "Collecting bing-image-downloader\n",
            "  Downloading bing_image_downloader-1.1.1-py3-none-any.whl (5.7 kB)\n",
            "Installing collected packages: bing-image-downloader\n",
            "Successfully installed bing-image-downloader-1.1.1\n"
          ]
        }
      ]
    },
    {
      "cell_type": "code",
      "execution_count": null,
      "metadata": {
        "id": "HzgLPq-FgZ1n"
      },
      "outputs": [],
      "source": [
        "import numpy as np\n",
        "import tensorflow as tf\n",
        "import matplotlib.pyplot as plt\n",
        "from bing_image_downloader import downloader as dw"
      ]
    },
    {
      "cell_type": "code",
      "source": [
        "!mkdir train"
      ],
      "metadata": {
        "id": "_dr9Vcdph2Qh"
      },
      "execution_count": null,
      "outputs": []
    },
    {
      "cell_type": "code",
      "source": [
        "dw.download(\"Bacterial leaf Blight\",limit=25,output_dir='/content/train',adult_filter_off=True,verbose=False)"
      ],
      "metadata": {
        "colab": {
          "base_uri": "https://localhost:8080/"
        },
        "id": "ZimJJe5giGI5",
        "outputId": "495d8398-4fd5-44c9-9512-7d8203d1acd9"
      },
      "execution_count": null,
      "outputs": [
        {
          "output_type": "stream",
          "name": "stdout",
          "text": [
            "[%] Downloading Images to /content/train/Bacterial leaf Blight\n",
            "\n",
            "\n",
            "[!!]Indexing page: 1\n",
            "\n",
            "[%] Indexed 25 Images on Page 1.\n",
            "\n",
            "===============================================\n",
            "\n",
            "[%] Downloading Image #1 from http://1.bp.blogspot.com/-ua4TbkhHfp0/TdtB5eTVW8I/AAAAAAAAASQ/SPCICcUqESg/s1600/7falsesmut2.jpg\n",
            "[%] File Downloaded !\n",
            "\n",
            "[%] Downloading Image #2 from https://3.bp.blogspot.com/-oEMD9SvLd1I/TdtCa_zjxlI/AAAAAAAAASc/NkmQ2m-53nE/s1600/9BacterialLeafStreakRice.jpg\n",
            "[%] File Downloaded !\n",
            "\n",
            "[%] Downloading Image #3 from https://1.bp.blogspot.com/-p9anGASiNls/TdtCHU-CsDI/AAAAAAAAASU/P1j5jUYJoxY/s1600/8BacterialLeafBlightRice.jpg\n",
            "[%] File Downloaded !\n",
            "\n",
            "[%] Downloading Image #4 from http://juagrisciences.com/uploads/crop/1556364420bacterialleafblightblb.jpg\n",
            "[%] File Downloaded !\n",
            "\n",
            "[%] Downloading Image #5 from http://juagrisciences.com/uploads/crop/1556364567falsesmut.jpg\n",
            "[%] File Downloaded !\n",
            "\n",
            "[%] Downloading Image #6 from https://journals.ashs.org/hortsci/view/journals/hortsci/53/6/full-838fig1.jpeg\n",
            "[%] File Downloaded !\n",
            "\n",
            "[%] Downloading Image #7 from https://www.iaea.org/sites/default/files/styles/hd_1920x1080/public/falsesmutd23032.jpg?itok=9UD3krvi\n",
            "[%] File Downloaded !\n",
            "\n",
            "[%] Downloading Image #8 from https://4.bp.blogspot.com/-Zb7ww5p5V4A/V-_DMiy64EI/AAAAAAAABkE/t6uh6ebe_207ubjERrUAQNNuFHn8BuihwCLcB/s1600/maydis%2Bblight.jpg\n",
            "[%] File Downloaded !\n",
            "\n",
            "[%] Downloading Image #9 from https://4.bp.blogspot.com/-Vvm98u4fOpg/V-9vNrXf3eI/AAAAAAAABiQ/IWNJs5LRxYop8jK5ahMk3wg4CEZmHcOdQCLcB/s1600/bacterial%2Bleaf%2Bblight%2Bof%2Bpaddy1.JPG\n",
            "[%] File Downloaded !\n",
            "\n",
            "[%] Downloading Image #10 from https://agriplaza.in/rice/img/bacterial-leaf-streak/Life_cycle_of_Bacterial_Leaf_Streak.jpg\n",
            "[%] File Downloaded !\n",
            "\n",
            "[%] Downloading Image #11 from https://geneticliteracyproject.org/wp-content/uploads/2019/09/corn-bacterial-leaf-streak-backlit-severe-lesions.jpg\n",
            "[%] File Downloaded !\n",
            "\n",
            "[%] Downloading Image #12 from https://image.shutterstock.com/image-photo/vine-leaves-affected-by-fungal-600w-686748067.jpg\n",
            "[Error]Invalid image, not saving https://image.shutterstock.com/image-photo/vine-leaves-affected-by-fungal-600w-686748067.jpg\n",
            "\n",
            "[!] Issue getting: https://image.shutterstock.com/image-photo/vine-leaves-affected-by-fungal-600w-686748067.jpg\n",
            "[!] Error:: Invalid image, not saving https://image.shutterstock.com/image-photo/vine-leaves-affected-by-fungal-600w-686748067.jpg\n",
            "\n",
            "[%] Downloading Image #12 from https://journals.ashs.org/hortsci/view/journals/hortsci/51/8/full-1062fig1.jpeg\n",
            "[%] File Downloaded !\n",
            "\n",
            "[%] Downloading Image #13 from https://www.intechopen.com/media/chapter/67223/media/F3.png\n",
            "[%] File Downloaded !\n",
            "\n",
            "[%] Downloading Image #14 from https://4.bp.blogspot.com/-i8Di_Onvi58/TdtBlNuoP_I/AAAAAAAAASM/p8JJub4ShCU/s1600/7falsesmut.jpg\n",
            "[%] File Downloaded !\n",
            "\n",
            "[%] Downloading Image #15 from http://3.bp.blogspot.com/-5QKwlrPhtLo/Tds8eNOedaI/AAAAAAAAARk/BUpLCzmDzO4/w1200-h630-p-k-nu/11blast.jpg\n",
            "[%] File Downloaded !\n",
            "\n",
            "[%] Downloading Image #16 from https://www.agriplexindia.com/media/pesticides/symptoms/ricebacterialblight2.jpg\n",
            "[%] File Downloaded !\n",
            "\n",
            "[%] Downloading Image #17 from https://www.ars.usda.gov/images/docs/25018_25244/Rice-blast-disease-on-leaf.jpg\n",
            "[%] File Downloaded !\n",
            "\n",
            "[%] Downloading Image #18 from http://www.supremebiogenseeds.com/wp-content/uploads/2019/04/Diseases-of-Brinjal.jpg\n",
            "[%] File Downloaded !\n",
            "\n",
            "[%] Downloading Image #19 from http://www.plantsgalore.com/care/images/bacterial-leaf-spot-1.jpg\n",
            "[%] File Downloaded !\n",
            "\n",
            "[%] Downloading Image #20 from http://www.eagri.org/eagri50/PATH272/lecture01/0026.jpg\n",
            "[%] File Downloaded !\n",
            "\n",
            "[%] Downloading Image #21 from https://indianseeds.in/wp-content/uploads/2020/10/image-14.png\n",
            "[%] File Downloaded !\n",
            "\n",
            "[%] Downloading Image #22 from https://image.slidesharecdn.com/diseasesinrice-130611013745-phpapp01/95/diseases-in-rice-10-638.jpg?cb=1370916990\n",
            "[%] File Downloaded !\n",
            "\n",
            "[%] Downloading Image #23 from https://2.bp.blogspot.com/-rFod5QKlST0/V-6BGdMY6LI/AAAAAAAABhc/YuQuFlotne4l1HPV6Oq7DjDN9gd7mjpUgCLcB/s1600/cercospora%2Bleaf%2Bspot%2Bin%2Bcastor.jpg\n",
            "[%] File Downloaded !\n",
            "\n",
            "[%] Downloading Image #24 from https://image.slidesharecdn.com/diseasesinrice-130611013745-phpapp01/95/diseases-in-rice-9-638.jpg?cb=1370916990\n",
            "[%] File Downloaded !\n",
            "\n",
            "\n",
            "\n",
            "[!!]Indexing page: 2\n",
            "\n",
            "[%] Indexed 35 Images on Page 2.\n",
            "\n",
            "===============================================\n",
            "\n",
            "[%] Downloading Image #25 from http://1.bp.blogspot.com/-ua4TbkhHfp0/TdtB5eTVW8I/AAAAAAAAASQ/SPCICcUqESg/s1600/7falsesmut2.jpg\n",
            "[%] File Downloaded !\n",
            "\n",
            "\n",
            "\n",
            "[%] Done. Downloaded 25 images.\n",
            "===============================================\n",
            "\n",
            "Please show your support here\n",
            "https://www.buymeacoffee.com/gurugaurav\n",
            "\n",
            "===============================================\n",
            "\n"
          ]
        }
      ]
    },
    {
      "cell_type": "code",
      "source": [
        "dw.download(\"Alternaria Leaf Spot\",limit=55,output_dir='/content/train',adult_filter_off=True,verbose=False)"
      ],
      "metadata": {
        "colab": {
          "base_uri": "https://localhost:8080/"
        },
        "id": "TP0CAbBLjt5u",
        "outputId": "d8a70ff0-2bf1-4462-c440-68e02c2ab622"
      },
      "execution_count": null,
      "outputs": [
        {
          "output_type": "stream",
          "name": "stdout",
          "text": [
            "[%] Downloading Images to /content/train/Alternaria Leaf Spot\n",
            "\n",
            "\n",
            "[!!]Indexing page: 1\n",
            "\n",
            "[%] Indexed 15 Images on Page 1.\n",
            "\n",
            "===============================================\n",
            "\n",
            "[%] Downloading Image #1 from https://c8.alamy.com/comp/X62XXB/cercospora-leaf-spot-cercospora-beticola-infection-on-a-sugar-beet-leaf-X62XXB.jpg\n",
            "[%] File Downloaded !\n",
            "\n",
            "[%] Downloading Image #2 from https://journals.ashs.org/horttech/view/journals/horttech/26/4/full-542fig1.jpeg\n",
            "[!] Issue getting: https://journals.ashs.org/horttech/view/journals/horttech/26/4/full-542fig1.jpeg\n",
            "[!] Error:: HTTP Error 403: Forbidden\n",
            "[%] Downloading Image #2 from https://bugwoodcloud.org/images/768x512/5372598.jpg\n",
            "[%] File Downloaded !\n",
            "\n",
            "[%] Downloading Image #3 from https://bugwoodcloud.org/images/768x512/5430722.jpg\n",
            "[%] File Downloaded !\n",
            "\n",
            "[%] Downloading Image #4 from https://2.bp.blogspot.com/-rFod5QKlST0/V-6BGdMY6LI/AAAAAAAABhc/YuQuFlotne4l1HPV6Oq7DjDN9gd7mjpUgCLcB/s1600/cercospora%2Bleaf%2Bspot%2Bin%2Bcastor.jpg\n",
            "[%] File Downloaded !\n",
            "\n",
            "[%] Downloading Image #5 from https://geneticliteracyproject.org/wp-content/uploads/2017/01/Aceraceae-Plant-diseases.jpg\n",
            "[%] File Downloaded !\n",
            "\n",
            "[%] Downloading Image #6 from https://sites.aces.edu/group/timelyinfo/Documents/Stemphylium Leaf Spot2.PNG\n",
            "[!] Issue getting: https://sites.aces.edu/group/timelyinfo/Documents/Stemphylium Leaf Spot2.PNG\n",
            "[!] Error:: URL can't contain control characters. '/group/timelyinfo/Documents/Stemphylium Leaf Spot2.PNG' (found at least ' ')\n",
            "[%] Downloading Image #6 from http://www.supremebiogenseeds.com/wp-content/uploads/2019/04/Diseases-of-Brinjal.jpg\n",
            "[%] File Downloaded !\n",
            "\n",
            "[%] Downloading Image #7 from https://www.plantfileonline.net/plants/plant_details/images_diseases/0026-21-disease.jpg\n",
            "[%] File Downloaded !\n",
            "\n",
            "[%] Downloading Image #8 from http://plantfileonline.net/plants/plant_details/images_diseases/0026-19-disease.jpg\n",
            "[%] File Downloaded !\n",
            "\n",
            "[%] Downloading Image #9 from https://www.intechopen.com/media/chapter/67223/media/F3.png\n",
            "[%] File Downloaded !\n",
            "\n",
            "[%] Downloading Image #10 from http://plantfileonline.net/plants/plant_details/images_diseases/0026-20-disease.jpg\n",
            "[%] File Downloaded !\n",
            "\n",
            "[%] Downloading Image #11 from http://www.ukrup.com.ua/wp-content/uploads/2016/12/zabolevaniye-luka-peronosporoz-lozhnaya-muchnistaya-rosa-simptomy-na-liste3.jpg\n",
            "[%] File Downloaded !\n",
            "\n",
            "[%] Downloading Image #12 from http://media.padil.gov.au/Species/143008/50999-large.jpg\n",
            "[%] File Downloaded !\n",
            "\n",
            "[%] Downloading Image #13 from https://www.researchgate.net/profile/C-Caldwell/publication/215580916/figure/fig1/AS:393983416127488@1470944374258/Reaction-of-Camelina-sativa-infected-with-clubroot-Healthy-plant-left-and-four-stunted_Q320.jpg\n",
            "[%] File Downloaded !\n",
            "\n",
            "\n",
            "\n",
            "[!!]Indexing page: 2\n",
            "\n",
            "[%] Indexed 35 Images on Page 2.\n",
            "\n",
            "===============================================\n",
            "\n",
            "[%] Downloading Image #14 from https://c8.alamy.com/comp/X62XXB/cercospora-leaf-spot-cercospora-beticola-infection-on-a-sugar-beet-leaf-X62XXB.jpg\n",
            "[%] File Downloaded !\n",
            "\n",
            "[%] Downloading Image #15 from https://bugwoodcloud.org/images/768x512/5372598.jpg\n",
            "[%] File Downloaded !\n",
            "\n",
            "\n",
            "\n",
            "[%] Done. Downloaded 15 images.\n",
            "===============================================\n",
            "\n",
            "Please show your support here\n",
            "https://www.buymeacoffee.com/gurugaurav\n",
            "\n",
            "===============================================\n",
            "\n"
          ]
        }
      ]
    },
    {
      "cell_type": "code",
      "source": [
        "dw.download(\"Gray Mildew\",limit=55,output_dir='/content/train',adult_filter_off=True,verbose=True)"
      ],
      "metadata": {
        "colab": {
          "base_uri": "https://localhost:8080/"
        },
        "id": "IavUtNjTkqGY",
        "outputId": "4c991c4a-4fb4-42c3-f626-c9ec07781156"
      },
      "execution_count": null,
      "outputs": [
        {
          "output_type": "stream",
          "name": "stdout",
          "text": [
            "[%] Downloading Images to /content/train/Gray Mildew\n",
            "\n",
            "\n",
            "[!!]Indexing page: 1\n",
            "\n",
            "[%] Indexed 15 Images on Page 1.\n",
            "\n",
            "===============================================\n",
            "\n",
            "[%] Downloading Image #1 from https://bugwoodcloud.org/images/1536x1024/2110097.jpg\n",
            "[%] File Downloaded !\n",
            "\n",
            "[%] Downloading Image #2 from https://bugwoodcloud.org/images/1536x1024/5528798.jpg\n",
            "[%] File Downloaded !\n",
            "\n",
            "[%] Downloading Image #3 from http://ucanr.edu/blogs/Alfalfa/blogfiles/34939_original.jpg\n",
            "[%] File Downloaded !\n",
            "\n",
            "[%] Downloading Image #4 from https://bugwoodcloud.org/images/1536x1024/5474075.jpg\n",
            "[%] File Downloaded !\n",
            "\n",
            "[%] Downloading Image #5 from https://www.gardentech.com/-/media/Images/GardenTech-NA/US/pest-id/plant-pest/Downy-mildew/Downy-mildew-onion.jpg?h=658&amp;la=en&amp;w=1000&amp;hash=459ADC4EF073B037F73C0618CC8CA33905C24575\n",
            "[%] File Downloaded !\n",
            "\n",
            "[%] Downloading Image #6 from https://bugwoodcloud.org/images/768x512/1495096.jpg\n",
            "[%] File Downloaded !\n",
            "\n",
            "[%] Downloading Image #7 from https://blogs.cornell.edu/ipmwpr/files/2014/07/032-2-22usd4y.jpg\n",
            "[%] File Downloaded !\n",
            "\n",
            "[%] Downloading Image #8 from https://www.gardentech.com/-/media/Images/GardenTech-NA/US/pest-id/plant-pest/Downy-mildew/Downy-mildew-cucumber.jpg?h=685&amp;la=en&amp;w=1000&amp;hash=67A8484C91AD658853765C2F1890346AA85475FF\n",
            "[%] File Downloaded !\n",
            "\n",
            "[%] Downloading Image #9 from https://www.saillog.co/Alert system/pictures for the system/Downy mildew/image1.jpg\n",
            "[!] Issue getting: https://www.saillog.co/Alert system/pictures for the system/Downy mildew/image1.jpg\n",
            "[!] Error:: URL can't contain control characters. '/Alert system/pictures for the system/Downy mildew/image1.jpg' (found at least ' ')\n",
            "[%] Downloading Image #9 from https://www.gardeningknowhow.com/wp-content/uploads/2020/05/hydrangea-bloom.jpg\n",
            "[%] File Downloaded !\n",
            "\n",
            "[%] Downloading Image #10 from https://www.lawndork.com/Content/images/lawn-pests/full16x9/Gray-Snow-Mold.jpg\n",
            "[%] File Downloaded !\n",
            "\n",
            "[%] Downloading Image #11 from https://i.pinimg.com/736x/03/66/70/03667054b0aef96ef8713fa1cbf69e61.jpg\n",
            "[%] File Downloaded !\n",
            "\n",
            "[%] Downloading Image #12 from https://www.gardentech.com/-/media/Images/GardenTech-NA/US/pest-id/plant-pest/Downy-mildew/downy-mildew-closeup-melon.ashx?h=1000&amp;la=en&amp;w=1000&amp;hash=1F04647EFFDA75CCB5BF2139534A39097AE453A5\n",
            "[%] File Downloaded !\n",
            "\n",
            "[%] Downloading Image #13 from https://www.gardentech.com/-/media/Images/GardenTech-NA/US/pest-id/plant-pest/Downy-mildew/downy-mildew-melon.jpg?h=1000&amp;la=en&amp;w=1000&amp;hash=FE637EC873C418CA9567E3AE21A9743D408656F0\n",
            "[%] File Downloaded !\n",
            "\n",
            "[%] Downloading Image #14 from https://www.canna.co.nz/sites/default/files/images/articles/default/articles-mildew_text_2.jpg\n",
            "[%] File Downloaded !\n",
            "\n",
            "\n",
            "\n",
            "[!!]Indexing page: 2\n",
            "\n",
            "[%] Indexed 35 Images on Page 2.\n",
            "\n",
            "===============================================\n",
            "\n",
            "[%] Downloading Image #15 from https://bugwoodcloud.org/images/768x512/1495096.jpg\n",
            "[%] File Downloaded !\n",
            "\n",
            "\n",
            "\n",
            "[%] Done. Downloaded 15 images.\n",
            "===============================================\n",
            "\n",
            "Please show your support here\n",
            "https://www.buymeacoffee.com/gurugaurav\n",
            "\n",
            "===============================================\n",
            "\n"
          ]
        }
      ]
    },
    {
      "cell_type": "code",
      "source": [
        "dw.download(\"Magnesium Deficiency\",limit=55,output_dir='/content/train',adult_filter_off=True,verbose=True)"
      ],
      "metadata": {
        "colab": {
          "base_uri": "https://localhost:8080/"
        },
        "id": "Kw9t-SkNk5XS",
        "outputId": "4887c82c-b78d-44cd-80b4-a06d1f85e31d"
      },
      "execution_count": null,
      "outputs": [
        {
          "output_type": "stream",
          "name": "stdout",
          "text": [
            "[%] Downloading Images to /content/train/Magnesium Deficiency\n",
            "\n",
            "\n",
            "[!!]Indexing page: 1\n",
            "\n",
            "[%] Indexed 15 Images on Page 1.\n",
            "\n",
            "===============================================\n",
            "\n",
            "[%] Downloading Image #1 from https://rumorfix.com/wp-content/uploads/2020/10/magnesium-1024x1024.jpg\n",
            "[%] File Downloaded !\n",
            "\n",
            "[%] Downloading Image #2 from https://i.pinimg.com/474x/36/f7/c0/36f7c02d1dec4a234e03f2b3db5e4a86--magnesium-deficiency-symptoms-magnesium-foods.jpg\n",
            "[%] File Downloaded !\n",
            "\n",
            "[%] Downloading Image #3 from https://i.pinimg.com/originals/50/06/f1/5006f1e82a81e10105c462768ddae44d.png\n",
            "[%] File Downloaded !\n",
            "\n",
            "[%] Downloading Image #4 from https://i.pinimg.com/originals/e9/ad/cf/e9adcf9490e4bd1e1f591f3b0c20ec8f.png\n",
            "[%] File Downloaded !\n",
            "\n",
            "[%] Downloading Image #5 from https://www.glutenfreesociety.org/wp-content/uploads/2015/03/Magnesium-Deficiency-Symptoms.png\n",
            "[%] File Downloaded !\n",
            "\n",
            "[%] Downloading Image #6 from https://www.tandfonline.com/doi/cover-img/10.1080/ipgm20.v092.i05\n",
            "[%] File Downloaded !\n",
            "\n",
            "[%] Downloading Image #7 from https://i.pinimg.com/736x/47/72/d9/4772d924806d7132572d558996b6148d.jpg\n",
            "[%] File Downloaded !\n",
            "\n",
            "[%] Downloading Image #8 from https://i.pinimg.com/originals/29/64/85/29648519c31b9337ddcc84e7fdcebe1a.jpg\n",
            "[%] File Downloaded !\n",
            "\n",
            "[%] Downloading Image #9 from https://i.pinimg.com/originals/9f/aa/0c/9faa0ca498ffdac7db3d09ea6d916d48.jpg\n",
            "[%] File Downloaded !\n",
            "\n",
            "[%] Downloading Image #10 from https://i.pinimg.com/474x/30/7d/ea/307deac757d906f5868dd3784d8e21ef.jpg\n",
            "[%] File Downloaded !\n",
            "\n",
            "[%] Downloading Image #11 from https://i.pinimg.com/originals/07/d4/10/07d410861825456cbed09acf0f8a9564.png\n",
            "[%] File Downloaded !\n",
            "\n",
            "[%] Downloading Image #12 from https://cdn.shopify.com/s/files/1/0473/6679/9525/files/magnesium_article_02.png?v=1600754933\n",
            "[%] File Downloaded !\n",
            "\n",
            "[%] Downloading Image #13 from https://www.modernholistichealth.com/wp-content/uploads/2019/09/Magnesium-Deficiency2.png\n",
            "[%] File Downloaded !\n",
            "\n",
            "[%] Downloading Image #14 from https://i.pinimg.com/originals/06/be/13/06be13b7427f0ced165fe51e042373ae.jpg\n",
            "[%] File Downloaded !\n",
            "\n",
            "[%] Downloading Image #15 from https://i.pinimg.com/236x/ea/f6/6f/eaf66f0e0baebafb80174471ec930721.jpg?nii=t\n",
            "[%] File Downloaded !\n",
            "\n",
            "\n",
            "\n",
            "[%] Done. Downloaded 15 images.\n",
            "===============================================\n",
            "\n",
            "Please show your support here\n",
            "https://www.buymeacoffee.com/gurugaurav\n",
            "\n",
            "===============================================\n",
            "\n"
          ]
        }
      ]
    },
    {
      "cell_type": "code",
      "source": [
        "from tensorflow.keras.preprocessing.image import ImageDataGenerator\n",
        "train_datagen = ImageDataGenerator(rescale=1/255)\n",
        "train_generator = train_datagen.flow_from_directory(\n",
        "        './train/',\n",
        "        target_size=(150, 150))"
      ],
      "metadata": {
        "id": "Dm2B3wWAlAnZ",
        "colab": {
          "base_uri": "https://localhost:8080/"
        },
        "outputId": "2f125f74-418a-4b89-b045-544e21e7a247"
      },
      "execution_count": null,
      "outputs": [
        {
          "output_type": "stream",
          "name": "stdout",
          "text": [
            "Found 60 images belonging to 4 classes.\n"
          ]
        }
      ]
    },
    {
      "cell_type": "code",
      "source": [
        "image_batch, label_batch = next(iter(train_generator))"
      ],
      "metadata": {
        "id": "b6-NXyqF88vA"
      },
      "execution_count": null,
      "outputs": []
    },
    {
      "cell_type": "code",
      "source": [
        "bm=tf.keras.applications.vgg16.VGG16(input_shape=(150,150,3),include_top=False,  weights='imagenet')"
      ],
      "metadata": {
        "id": "Cm2yW6wipJke"
      },
      "execution_count": null,
      "outputs": []
    },
    {
      "cell_type": "code",
      "source": [
        "bm.trainable=False"
      ],
      "metadata": {
        "id": "J3KssBwUpS4L"
      },
      "execution_count": null,
      "outputs": []
    },
    {
      "cell_type": "code",
      "source": [
        "feature_batch = bm(image_batch)"
      ],
      "metadata": {
        "id": "FDwXFbFfwdoV"
      },
      "execution_count": null,
      "outputs": []
    },
    {
      "cell_type": "code",
      "source": [
        "pl=tf.keras.layers.Dense(4)\n",
        "global_average_layer = tf.keras.layers.GlobalAveragePooling2D()\n",
        "feature_batch_average = global_average_layer(feature_batch)\n",
        "prediction_batch = pl(feature_batch_average)"
      ],
      "metadata": {
        "id": "D43OU7rQp86G"
      },
      "execution_count": null,
      "outputs": []
    },
    {
      "cell_type": "code",
      "source": [
        "feature_batch_average.shape"
      ],
      "metadata": {
        "colab": {
          "base_uri": "https://localhost:8080/"
        },
        "id": "ZhB4OZc6w0ez",
        "outputId": "bf6e3ed5-5f44-4c43-a78b-fbceb45cf80c"
      },
      "execution_count": null,
      "outputs": [
        {
          "output_type": "execute_result",
          "data": {
            "text/plain": [
              "TensorShape([60, 512])"
            ]
          },
          "metadata": {},
          "execution_count": 49
        }
      ]
    },
    {
      "cell_type": "code",
      "source": [
        "inp=tf.keras.Input(shape=(150,150,3))\n",
        "x=bm(inp,training=False)\n",
        "x = global_average_layer(x)\n",
        "x = tf.keras.layers.Dropout(0.2)(x)\n",
        "out = pl(x)\n",
        "m=tf.keras.Model(inp,out)"
      ],
      "metadata": {
        "id": "nJ1lYBH4qnBw"
      },
      "execution_count": null,
      "outputs": []
    },
    {
      "cell_type": "code",
      "source": [
        "m.compile(optimizer=tf.keras.optimizers.Adam(learning_rate=0.001),\n",
        "              loss=tf.keras.losses.CategoricalCrossentropy(from_logits=True),\n",
        "              metrics=['accuracy'])"
      ],
      "metadata": {
        "id": "0H1PV5sRrVVl"
      },
      "execution_count": null,
      "outputs": []
    },
    {
      "cell_type": "code",
      "source": [
        "label_batch = np.asarray(label_batch)\n",
        "image_batch = np.asarray(image_batch)"
      ],
      "metadata": {
        "id": "HmKwATbk-llW"
      },
      "execution_count": null,
      "outputs": []
    },
    {
      "cell_type": "code",
      "source": [
        "m.fit(image_batch,label_batch,epochs=10)"
      ],
      "metadata": {
        "id": "JvehQbvtsBVA",
        "outputId": "7157c690-b7c9-41f1-8040-d7c7cb07fa4c",
        "colab": {
          "base_uri": "https://localhost:8080/"
        }
      },
      "execution_count": null,
      "outputs": [
        {
          "output_type": "stream",
          "name": "stdout",
          "text": [
            "Epoch 1/10\n",
            "2/2 [==============================] - 12s 5s/step - loss: 0.8780 - accuracy: 0.7500\n",
            "Epoch 2/10\n",
            "2/2 [==============================] - 11s 5s/step - loss: 0.9093 - accuracy: 0.7667\n",
            "Epoch 3/10\n",
            "2/2 [==============================] - 11s 5s/step - loss: 0.8424 - accuracy: 0.8000\n",
            "Epoch 4/10\n",
            "2/2 [==============================] - 11s 5s/step - loss: 0.8527 - accuracy: 0.8000\n",
            "Epoch 5/10\n",
            "2/2 [==============================] - 11s 5s/step - loss: 0.8820 - accuracy: 0.7333\n",
            "Epoch 6/10\n",
            "2/2 [==============================] - 11s 5s/step - loss: 0.8419 - accuracy: 0.8000\n",
            "Epoch 7/10\n",
            "2/2 [==============================] - 11s 5s/step - loss: 0.8111 - accuracy: 0.7833\n",
            "Epoch 8/10\n",
            "2/2 [==============================] - 11s 5s/step - loss: 0.8147 - accuracy: 0.7833\n",
            "Epoch 9/10\n",
            "2/2 [==============================] - 11s 5s/step - loss: 0.7957 - accuracy: 0.8000\n",
            "Epoch 10/10\n",
            "2/2 [==============================] - 11s 5s/step - loss: 0.7905 - accuracy: 0.7833\n"
          ]
        },
        {
          "output_type": "execute_result",
          "data": {
            "text/plain": [
              "<keras.callbacks.History at 0x7fe04471d990>"
            ]
          },
          "metadata": {},
          "execution_count": 68
        }
      ]
    },
    {
      "cell_type": "code",
      "source": [
        "m.save('model.h5')"
      ],
      "metadata": {
        "id": "3Ed0uW3t_G_h"
      },
      "execution_count": null,
      "outputs": []
    },
    {
      "cell_type": "code",
      "source": [
        "for i in dir(m):\n",
        "  print(i)"
      ],
      "metadata": {
        "colab": {
          "base_uri": "https://localhost:8080/"
        },
        "id": "KHwLg8_rBrw-",
        "outputId": "7f98a3f3-55ab-4786-d535-48fa3310b4eb"
      },
      "execution_count": null,
      "outputs": [
        {
          "output_type": "stream",
          "name": "stdout",
          "text": [
            "_SCALAR_UPRANKING_ON\n",
            "_TF_MODULE_IGNORED_PROPERTIES\n",
            "__call__\n",
            "__class__\n",
            "__copy__\n",
            "__deepcopy__\n",
            "__delattr__\n",
            "__dict__\n",
            "__dir__\n",
            "__doc__\n",
            "__eq__\n",
            "__format__\n",
            "__ge__\n",
            "__getattribute__\n",
            "__getstate__\n",
            "__gt__\n",
            "__hash__\n",
            "__init__\n",
            "__init_subclass__\n",
            "__le__\n",
            "__lt__\n",
            "__module__\n",
            "__ne__\n",
            "__new__\n",
            "__reduce__\n",
            "__reduce_ex__\n",
            "__repr__\n",
            "__setattr__\n",
            "__setstate__\n",
            "__sizeof__\n",
            "__str__\n",
            "__subclasshook__\n",
            "__weakref__\n",
            "_activity_regularizer\n",
            "_add_trackable\n",
            "_add_trackable_child\n",
            "_add_variable_with_custom_getter\n",
            "_assert_compile_was_called\n",
            "_assert_weights_created\n",
            "_auto_track_sub_layers\n",
            "_autocast\n",
            "_autographed_call\n",
            "_base_model_initialized\n",
            "_build_input_shape\n",
            "_call_accepts_kwargs\n",
            "_call_arg_was_passed\n",
            "_call_fn_arg_defaults\n",
            "_call_fn_arg_positions\n",
            "_call_fn_args\n",
            "_call_full_argspec\n",
            "_callable_losses\n",
            "_cast_single_input\n",
            "_check_call_args\n",
            "_checkpoint_dependencies\n",
            "_clear_losses\n",
            "_cluster_coordinator\n",
            "_compile_was_called\n",
            "_compiled_trainable_state\n",
            "_compute_dtype\n",
            "_compute_dtype_object\n",
            "_compute_output_and_mask_jointly\n",
            "_compute_tensor_usage_count\n",
            "_configure_steps_per_execution\n",
            "_conform_to_reference_input\n",
            "_dedup_weights\n",
            "_default_training_arg\n",
            "_deferred_dependencies\n",
            "_delete_tracking\n",
            "_deserialize_from_proto\n",
            "_distribution_strategy\n",
            "_dtype\n",
            "_dtype_policy\n",
            "_dynamic\n",
            "_eager_losses\n",
            "_enable_dict_to_input_mapping\n",
            "_expects_mask_arg\n",
            "_expects_training_arg\n",
            "_feed_input_names\n",
            "_feed_input_shapes\n",
            "_feed_inputs\n",
            "_flatten\n",
            "_flatten_layers\n",
            "_flatten_modules\n",
            "_flatten_to_reference_inputs\n",
            "_functional_construction_call\n",
            "_gather_children_attribute\n",
            "_gather_saveables_for_checkpoint\n",
            "_get_call_arg_value\n",
            "_get_callback_model\n",
            "_get_cell_name\n",
            "_get_compile_args\n",
            "_get_existing_metric\n",
            "_get_input_masks\n",
            "_get_node_attribute_at_index\n",
            "_get_optimizer\n",
            "_get_save_spec\n",
            "_get_trainable_state\n",
            "_graph_network_add_loss\n",
            "_graph_network_add_metric\n",
            "_handle_activity_regularization\n",
            "_handle_deferred_dependencies\n",
            "_handle_deferred_layer_dependencies\n",
            "_handle_weight_regularization\n",
            "_in_multi_worker_mode\n",
            "_inbound_nodes\n",
            "_inbound_nodes_value\n",
            "_infer_output_signature\n",
            "_init_batch_counters\n",
            "_init_call_fn_args\n",
            "_init_graph_network\n",
            "_init_set_name\n",
            "_initial_weights\n",
            "_input_coordinates\n",
            "_input_layers\n",
            "_input_spec\n",
            "_insert_layers\n",
            "_instrument_layer_creation\n",
            "_instrumented_keras_api\n",
            "_instrumented_keras_layer_class\n",
            "_instrumented_keras_model_class\n",
            "_is_compiled\n",
            "_is_graph_network\n",
            "_is_layer\n",
            "_is_model_for_instrumentation\n",
            "_keras_api_names\n",
            "_keras_api_names_v1\n",
            "_keras_tensor_symbolic_call\n",
            "_layer_call_argspecs\n",
            "_layer_checkpoint_dependencies\n",
            "_list_extra_dependencies_for_serialization\n",
            "_list_functions_for_serialization\n",
            "_lookup_dependency\n",
            "_losses\n",
            "_map_resources\n",
            "_maybe_build\n",
            "_maybe_cast_inputs\n",
            "_maybe_create_attribute\n",
            "_maybe_initialize_trackable\n",
            "_maybe_load_initial_epoch_from_ckpt\n",
            "_metrics\n",
            "_metrics_lock\n",
            "_must_restore_from_config\n",
            "_name\n",
            "_name_based_attribute_restore\n",
            "_name_based_restores\n",
            "_name_scope\n",
            "_nested_inputs\n",
            "_nested_outputs\n",
            "_network_nodes\n",
            "_no_dependency\n",
            "_nodes_by_depth\n",
            "_non_trainable_weights\n",
            "_obj_reference_counts\n",
            "_obj_reference_counts_dict\n",
            "_object_identifier\n",
            "_outbound_nodes\n",
            "_outbound_nodes_value\n",
            "_outer_name_scope\n",
            "_output_coordinates\n",
            "_output_layers\n",
            "_output_mask_cache\n",
            "_output_shape_cache\n",
            "_output_tensor_cache\n",
            "_predict_counter\n",
            "_preload_simple_restoration\n",
            "_preserve_input_structure_in_config\n",
            "_reset_compile_cache\n",
            "_restore_from_checkpoint_position\n",
            "_run_eagerly\n",
            "_run_internal_graph\n",
            "_saved_model_arg_spec\n",
            "_saved_model_inputs_spec\n",
            "_self_name_based_restores\n",
            "_self_saveable_object_factories\n",
            "_self_setattr_tracking\n",
            "_self_tracked_trackables\n",
            "_self_unconditional_checkpoint_dependencies\n",
            "_self_unconditional_deferred_dependencies\n",
            "_self_unconditional_dependency_names\n",
            "_self_update_uid\n",
            "_serialize_to_proto\n",
            "_set_call_arg_value\n",
            "_set_connectivity_metadata\n",
            "_set_dtype_policy\n",
            "_set_inputs\n",
            "_set_mask_keras_history_checked\n",
            "_set_mask_metadata\n",
            "_set_output_names\n",
            "_set_save_spec\n",
            "_set_trainable_state\n",
            "_set_training_mode\n",
            "_setattr_tracking\n",
            "_should_cast_single_input\n",
            "_should_compute_mask\n",
            "_should_eval\n",
            "_single_restoration_from_checkpoint_position\n",
            "_split_out_first_arg\n",
            "_stateful\n",
            "_steps_per_execution\n",
            "_supports_masking\n",
            "_symbolic_call\n",
            "_tensor_usage_count\n",
            "_test_counter\n",
            "_tf_api_names\n",
            "_tf_api_names_v1\n",
            "_thread_local\n",
            "_track_trackable\n",
            "_trackable_saved_model_saver\n",
            "_trackable_saver\n",
            "_tracking_metadata\n",
            "_train_counter\n",
            "_trainable\n",
            "_trainable_weights\n",
            "_training_state\n",
            "_unconditional_checkpoint_dependencies\n",
            "_unconditional_dependency_names\n",
            "_undeduplicated_weights\n",
            "_update_uid\n",
            "_updated_config\n",
            "_updates\n",
            "_use_input_spec_as_call_signature\n",
            "_validate_compile\n",
            "_validate_graph_inputs_and_outputs\n",
            "activity_regularizer\n",
            "add_loss\n",
            "add_metric\n",
            "add_update\n",
            "add_variable\n",
            "add_weight\n",
            "apply\n",
            "build\n",
            "built\n",
            "call\n",
            "compile\n",
            "compiled_loss\n",
            "compiled_metrics\n",
            "compute_dtype\n",
            "compute_mask\n",
            "compute_output_shape\n",
            "compute_output_signature\n",
            "count_params\n",
            "distribute_strategy\n",
            "dtype\n",
            "dtype_policy\n",
            "dynamic\n",
            "evaluate\n",
            "evaluate_generator\n",
            "finalize_state\n",
            "fit\n",
            "fit_generator\n",
            "from_config\n",
            "get_config\n",
            "get_input_at\n",
            "get_input_mask_at\n",
            "get_input_shape_at\n",
            "get_layer\n",
            "get_losses_for\n",
            "get_output_at\n",
            "get_output_mask_at\n",
            "get_output_shape_at\n",
            "get_updates_for\n",
            "get_weights\n",
            "history\n",
            "inbound_nodes\n",
            "input\n",
            "input_mask\n",
            "input_names\n",
            "input_shape\n",
            "input_spec\n",
            "inputs\n",
            "layers\n",
            "load_weights\n",
            "loss\n",
            "losses\n",
            "make_predict_function\n",
            "make_test_function\n",
            "make_train_function\n",
            "metrics\n",
            "metrics_names\n",
            "name\n",
            "name_scope\n",
            "non_trainable_variables\n",
            "non_trainable_weights\n",
            "optimizer\n",
            "outbound_nodes\n",
            "output\n",
            "output_mask\n",
            "output_names\n",
            "output_shape\n",
            "outputs\n",
            "predict\n",
            "predict_function\n",
            "predict_generator\n",
            "predict_on_batch\n",
            "predict_step\n",
            "reset_metrics\n",
            "reset_states\n",
            "run_eagerly\n",
            "save\n",
            "save_spec\n",
            "save_weights\n",
            "set_weights\n",
            "state_updates\n",
            "stateful\n",
            "stop_training\n",
            "submodules\n",
            "summary\n",
            "supports_masking\n",
            "test_function\n",
            "test_on_batch\n",
            "test_step\n",
            "to_json\n",
            "to_yaml\n",
            "train_function\n",
            "train_on_batch\n",
            "train_step\n",
            "train_tf_function\n",
            "trainable\n",
            "trainable_variables\n",
            "trainable_weights\n",
            "updates\n",
            "variable_dtype\n",
            "variables\n",
            "weights\n",
            "with_name_scope\n"
          ]
        }
      ]
    },
    {
      "cell_type": "code",
      "source": [
        ""
      ],
      "metadata": {
        "id": "elEXnX_lCRr6"
      },
      "execution_count": null,
      "outputs": []
    }
  ]
}