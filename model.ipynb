{
  "nbformat": 4,
  "nbformat_minor": 0,
  "metadata": {
    "colab": {
      "name": "Copy of Nikhil_majorproject",
      "provenance": [],
      "collapsed_sections": []
    },
    "kernelspec": {
      "name": "python3",
      "display_name": "Python 3"
    },
    "language_info": {
      "name": "python"
    }
  },
  "cells": [
    {
      "cell_type": "code",
      "execution_count": 1,
      "metadata": {
        "id": "HzgLPq-FgZ1n"
      },
      "outputs": [],
      "source": [
        "import numpy as np\n",
        "import tensorflow as tf\n",
        "import matplotlib.pyplot as plt\n"
      ]
    },
    {
      "cell_type": "code",
      "source": [
        "!mkdir train"
      ],
      "metadata": {
        "id": "R_LJZGc5uD-m"
      },
      "execution_count": 2,
      "outputs": []
    },
    {
      "cell_type": "code",
      "source": [
        "!mkdir ./train/Ascochyta_Blight\n",
        "!mkdir ./train/Bacteria_blight\n",
        "!mkdir ./train/cercospora\n",
        "!mkdir ./train/Fresh_leaf\n",
        "!mkdir ./train/Target_spot"
      ],
      "metadata": {
        "id": "_dr9Vcdph2Qh"
      },
      "execution_count": 4,
      "outputs": []
    },
    {
      "cell_type": "code",
      "source": [
        "from tensorflow.keras.preprocessing.image import ImageDataGenerator\n",
        "trg=ImageDataGenerator(rescale=1/255)\n",
        "tgenerator=trg.flow_from_directory(\n",
        "        '/content/drive/MyDrive/train',\n",
        "        target_size=(150, 150))"
      ],
      "metadata": {
        "id": "Dm2B3wWAlAnZ",
        "colab": {
          "base_uri": "https://localhost:8080/"
        },
        "outputId": "f8bbaa25-7e70-4ab2-ca1a-82a5d25d5340"
      },
      "execution_count": 3,
      "outputs": [
        {
          "output_type": "stream",
          "name": "stdout",
          "text": [
            "Found 31 images belonging to 5 classes.\n"
          ]
        }
      ]
    },
    {
      "cell_type": "code",
      "source": [
        "xb1,yb1=next(iter(tgenerator))"
      ],
      "metadata": {
        "id": "b6-NXyqF88vA"
      },
      "execution_count": 4,
      "outputs": []
    },
    {
      "cell_type": "code",
      "source": [
        "bm=tf.keras.applications.vgg16.VGG16(input_shape=(150,150,3),include_top=False,  weights='imagenet')"
      ],
      "metadata": {
        "id": "Cm2yW6wipJke",
        "colab": {
          "base_uri": "https://localhost:8080/"
        },
        "outputId": "edb76ee5-cf58-46a4-a144-4cc2d51582f9"
      },
      "execution_count": 5,
      "outputs": [
        {
          "output_type": "stream",
          "name": "stdout",
          "text": [
            "Downloading data from https://storage.googleapis.com/tensorflow/keras-applications/vgg16/vgg16_weights_tf_dim_ordering_tf_kernels_notop.h5\n",
            "58892288/58889256 [==============================] - 0s 0us/step\n",
            "58900480/58889256 [==============================] - 0s 0us/step\n"
          ]
        }
      ]
    },
    {
      "cell_type": "code",
      "source": [
        "bm.trainable=False"
      ],
      "metadata": {
        "id": "J3KssBwUpS4L"
      },
      "execution_count": 6,
      "outputs": []
    },
    {
      "cell_type": "code",
      "source": [
        "xb = bm(xb1)"
      ],
      "metadata": {
        "id": "FDwXFbFfwdoV"
      },
      "execution_count": 7,
      "outputs": []
    },
    {
      "cell_type": "code",
      "source": [
        "pl=tf.keras.layers.Dense(5)\n",
        "global_average_layer=tf.keras.layers.GlobalAveragePooling2D()\n",
        "feature_batch_average=global_average_layer(xb)\n",
        "prediction_batch=pl(feature_batch_average)"
      ],
      "metadata": {
        "id": "D43OU7rQp86G"
      },
      "execution_count": 8,
      "outputs": []
    },
    {
      "cell_type": "code",
      "source": [
        "feature_batch_average.shape"
      ],
      "metadata": {
        "colab": {
          "base_uri": "https://localhost:8080/"
        },
        "id": "ZhB4OZc6w0ez",
        "outputId": "94453b24-67ad-4831-bf23-77c8c132385f"
      },
      "execution_count": 9,
      "outputs": [
        {
          "output_type": "execute_result",
          "data": {
            "text/plain": [
              "TensorShape([31, 512])"
            ]
          },
          "metadata": {},
          "execution_count": 9
        }
      ]
    },
    {
      "cell_type": "code",
      "source": [
        "inp=tf.keras.Input(shape=(150,150,3))\n",
        "x=bm(inp,training=False)\n",
        "x = global_average_layer(x)\n",
        "x = tf.keras.layers.Dropout(0.2)(x)\n",
        "out=pl(x)\n",
        "m=tf.keras.Model(inp,out)"
      ],
      "metadata": {
        "id": "nJ1lYBH4qnBw"
      },
      "execution_count": 10,
      "outputs": []
    },
    {
      "cell_type": "code",
      "source": [
        "m.compile(optimizer=tf.keras.optimizers.Adam(learning_rate=0.001),\n",
        "              loss=tf.keras.losses.CategoricalCrossentropy(from_logits=True),\n",
        "              metrics=['accuracy'])"
      ],
      "metadata": {
        "id": "0H1PV5sRrVVl"
      },
      "execution_count": 11,
      "outputs": []
    },
    {
      "cell_type": "code",
      "source": [
        "tx=np.asarray(yb1)\n",
        "ty=np.asarray(xb1)"
      ],
      "metadata": {
        "id": "HmKwATbk-llW"
      },
      "execution_count": 12,
      "outputs": []
    },
    {
      "cell_type": "code",
      "source": [
        "m.fit(ty,tx,epochs=1)"
      ],
      "metadata": {
        "id": "JvehQbvtsBVA",
        "outputId": "f39caa0c-2b78-4bf8-e202-0c2c3ab52c13",
        "colab": {
          "base_uri": "https://localhost:8080/"
        }
      },
      "execution_count": 16,
      "outputs": [
        {
          "output_type": "stream",
          "name": "stdout",
          "text": [
            "1/1 [==============================] - 6s 6s/step - loss: 0.9096 - accuracy: 0.9032\n"
          ]
        },
        {
          "output_type": "execute_result",
          "data": {
            "text/plain": [
              "<keras.callbacks.History at 0x7fb2b7daf190>"
            ]
          },
          "metadata": {},
          "execution_count": 16
        }
      ]
    },
    {
      "cell_type": "code",
      "source": [
        "m.save('model.h5')"
      ],
      "metadata": {
        "id": "3Ed0uW3t_G_h"
      },
      "execution_count": 17,
      "outputs": []
    },
    {
      "cell_type": "code",
      "source": [
        "m.summary()"
      ],
      "metadata": {
        "colab": {
          "base_uri": "https://localhost:8080/"
        },
        "id": "mBC4vrWoEuZ6",
        "outputId": "4048bbf8-9c60-4f64-b55f-50b594aa3184"
      },
      "execution_count": null,
      "outputs": [
        {
          "output_type": "stream",
          "name": "stdout",
          "text": [
            "Model: \"model\"\n",
            "_________________________________________________________________\n",
            " Layer (type)                Output Shape              Param #   \n",
            "=================================================================\n",
            " input_4 (InputLayer)        [(None, 150, 150, 3)]     0         \n",
            "                                                                 \n",
            " vgg16 (Functional)          (None, 4, 4, 512)         14714688  \n",
            "                                                                 \n",
            " dense (Dense)               (None, 4, 4, 5)           20        \n",
            "                                                                 \n",
            "=================================================================\n",
            "Total params: 14,714,708\n",
            "Trainable params: 20\n",
            "Non-trainable params: 14,714,688\n",
            "_________________________________________________________________\n"
          ]
        }
      ]
    },
    {
      "cell_type": "code",
      "source": [
        "label=tgenerator.classes\n",
        "len(label)"
      ],
      "metadata": {
        "colab": {
          "base_uri": "https://localhost:8080/"
        },
        "id": "eeD-ZPEN6n1H",
        "outputId": "02490de0-00fb-4e9d-de24-0b9c600f5b92"
      },
      "execution_count": 46,
      "outputs": [
        {
          "output_type": "execute_result",
          "data": {
            "text/plain": [
              "31"
            ]
          },
          "metadata": {},
          "execution_count": 46
        }
      ]
    },
    {
      "cell_type": "code",
      "source": [
        "label=['Ascochyta Blight','Bacteria blight','Fresh leaf','Target spot','Cercospora']"
      ],
      "metadata": {
        "id": "BywlQQ9O64DF"
      },
      "execution_count": 119,
      "outputs": []
    },
    {
      "cell_type": "code",
      "source": [
        "tsg=ImageDataGenerator(rescale=1/255)\n",
        "tsgenerator=trg.flow_from_directory(\n",
        "        '/content/drive/MyDrive/test',\n",
        "        target_size=(150, 150))"
      ],
      "metadata": {
        "colab": {
          "base_uri": "https://localhost:8080/"
        },
        "id": "s9w8wfsYCZHz",
        "outputId": "a9441126-5925-4f4a-f29f-68abb7fb4bd5"
      },
      "execution_count": 113,
      "outputs": [
        {
          "output_type": "stream",
          "name": "stdout",
          "text": [
            "Found 2 images belonging to 1 classes.\n"
          ]
        }
      ]
    },
    {
      "cell_type": "code",
      "source": [
        "q,_=next(tsgenerator)"
      ],
      "metadata": {
        "id": "1J3_1fAuDswA"
      },
      "execution_count": 114,
      "outputs": []
    },
    {
      "cell_type": "code",
      "source": [
        "pred=m.predict(q)"
      ],
      "metadata": {
        "id": "54EgOZC1Dw__"
      },
      "execution_count": 115,
      "outputs": []
    },
    {
      "cell_type": "code",
      "source": [
        "a,b=label[np.argmax(pred[0])],label[np.argmax(pred[1])]"
      ],
      "metadata": {
        "id": "ikJ8FuI6D20g"
      },
      "execution_count": 116,
      "outputs": []
    },
    {
      "cell_type": "code",
      "source": [
        "plt.subplot(2,2,1)\n",
        "plt.imshow(q[0])\n",
        "plt.xlabel(a)\n",
        "plt.subplot(2,2,2)\n",
        "plt.imshow(q[1])\n",
        "plt.xlabel(b)"
      ],
      "metadata": {
        "colab": {
          "base_uri": "https://localhost:8080/",
          "height": 181
        },
        "id": "FrCj7nkqE6nO",
        "outputId": "16d9b82c-492f-4497-90c1-d15c12c3495e"
      },
      "execution_count": 121,
      "outputs": [
        {
          "output_type": "execute_result",
          "data": {
            "text/plain": [
              "Text(0.5, 0, 'Fresh leaf')"
            ]
          },
          "metadata": {},
          "execution_count": 121
        },
        {
          "output_type": "display_data",
          "data": {
            "image/png": "[encoded data removed]",
            "text/plain": [
              "<Figure size 432x288 with 2 Axes>"
            ]
          },
          "metadata": {
            "needs_background": "light"
          }
        }
      ]
    },
    {
      "cell_type": "code",
      "source": [
        ""
      ],
      "metadata": {
        "id": "eTwFyg9EE-Lr"
      },
      "execution_count": null,
      "outputs": []
    }
  ]
}